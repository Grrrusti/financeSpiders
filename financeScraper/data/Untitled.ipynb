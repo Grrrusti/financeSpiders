{
 "cells": [
  {
   "cell_type": "code",
   "execution_count": 29,
   "metadata": {},
   "outputs": [],
   "source": [
    "from newspaper import Article"
   ]
  },
  {
   "cell_type": "code",
   "execution_count": 30,
   "metadata": {},
   "outputs": [],
   "source": [
    "url= 'https://www.cnbc.com/2018/06/04/cramer-its-not-just-fang-other-tech-stocks-drove-nasdaq-to-new-highs.html'\n",
    "article = Article(url)"
   ]
  },
  {
   "cell_type": "code",
   "execution_count": 31,
   "metadata": {},
   "outputs": [],
   "source": [
    "article.download()"
   ]
  },
  {
   "cell_type": "code",
   "execution_count": 32,
   "metadata": {},
   "outputs": [],
   "source": [
    "article.parse()"
   ]
  },
  {
   "cell_type": "code",
   "execution_count": 33,
   "metadata": {},
   "outputs": [
    {
     "data": {
      "text/plain": [
       "['Elizabeth Gurdus']"
      ]
     },
     "execution_count": 33,
     "metadata": {},
     "output_type": "execute_result"
    }
   ],
   "source": [
    "article.authors"
   ]
  },
  {
   "cell_type": "code",
   "execution_count": 34,
   "metadata": {},
   "outputs": [
    {
     "data": {
      "text/plain": [
       "'CNBC\\'s Jim Cramer knows all too well that the market can\\'t be driven solely by FANG, his ubiquitous acronym for the stocks of Facebook, Amazon, Netflix and Google, now Alphabet.\\n\\n\"On a great day for the bulls where the Dow gained 178 points, the S&P advanced 0.45 percent, and the Nasdaq climbed 0.69 percent to a new all-time high, I think we need a new acronym for tech,\" the \"Mad Money\" host said Monday. \"FANG\\'s just not cutting it anymore because the gains are no longer limited to [that cohort].\"\\n\\n\"If you want to understand the strength in the Nasdaq, you need a new acronym,\" Cramer continued. \"So say hello to INJFANG, as in \\'It\\'s Not Just FANG\\' anymore.\"'"
      ]
     },
     "execution_count": 34,
     "metadata": {},
     "output_type": "execute_result"
    }
   ],
   "source": [
    "article.text"
   ]
  },
  {
   "cell_type": "code",
   "execution_count": 35,
   "metadata": {},
   "outputs": [
    {
     "data": {
      "text/plain": [
       "datetime.datetime(2018, 6, 4, 0, 0)"
      ]
     },
     "execution_count": 35,
     "metadata": {},
     "output_type": "execute_result"
    }
   ],
   "source": [
    "article.publish_date"
   ]
  },
  {
   "cell_type": "code",
   "execution_count": null,
   "metadata": {},
   "outputs": [],
   "source": []
  }
 ],
 "metadata": {
  "kernelspec": {
   "display_name": "financeSpiders",
   "language": "python",
   "name": "financespiders"
  },
  "language_info": {
   "codemirror_mode": {
    "name": "ipython",
    "version": 3
   },
   "file_extension": ".py",
   "mimetype": "text/x-python",
   "name": "python",
   "nbconvert_exporter": "python",
   "pygments_lexer": "ipython3",
   "version": "3.5.2"
  }
 },
 "nbformat": 4,
 "nbformat_minor": 2
}
